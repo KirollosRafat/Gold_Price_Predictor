{
 "cells": [
  {
   "cell_type": "code",
   "execution_count": 9,
   "id": "8674423a-669b-46ca-ac1a-4471656365ac",
   "metadata": {},
   "outputs": [],
   "source": [
    "import numpy as np\n",
    "import pandas as pd\n",
    "import pickle as pk\n",
    "from matplotlib import  pyplot as plt\n",
    "from xgboost import XGBRegressor\n",
    "from sklearn.preprocessing import StandardScaler\n",
    "from sklearn.linear_model import LinearRegression\n",
    "from sklearn.model_selection import train_test_split # Split the datasets into training and testing\n",
    "from sklearn.metrics import r2_score,mean_squared_error# Our cost function for simple linear regression"
   ]
  },
  {
   "cell_type": "markdown",
   "id": "3636ec72",
   "metadata": {},
   "source": [
    "Will read the data using pandas "
   ]
  },
  {
   "cell_type": "code",
   "execution_count": 20,
   "id": "47ea172b",
   "metadata": {},
   "outputs": [
    {
     "name": "stdout",
     "output_type": "stream",
     "text": [
      "<class 'pandas.core.frame.DataFrame'>\n",
      "RangeIndex: 2290 entries, 0 to 2289\n",
      "Data columns (total 6 columns):\n",
      " #   Column   Non-Null Count  Dtype  \n",
      "---  ------   --------------  -----  \n",
      " 0   Date     2290 non-null   object \n",
      " 1   SPX      2290 non-null   float64\n",
      " 2   GLD      2290 non-null   float64\n",
      " 3   USO      2290 non-null   float64\n",
      " 4   SLV      2290 non-null   float64\n",
      " 5   EUR/USD  2290 non-null   float64\n",
      "dtypes: float64(5), object(1)\n",
      "memory usage: 107.5+ KB\n"
     ]
    }
   ],
   "source": [
    "Gold_Price = pd.read_csv(\"gld_price_data.csv\")\n",
    "Gold_Price.head()\n",
    "Gold_Price.info()"
   ]
  },
  {
   "cell_type": "markdown",
   "id": "c2b4f14b",
   "metadata": {},
   "source": [
    "let's check if there are nulls"
   ]
  },
  {
   "cell_type": "code",
   "execution_count": 11,
   "id": "8927b3ec",
   "metadata": {},
   "outputs": [
    {
     "data": {
      "text/plain": [
       "Date       0\n",
       "SPX        0\n",
       "GLD        0\n",
       "USO        0\n",
       "SLV        0\n",
       "EUR/USD    0\n",
       "dtype: int64"
      ]
     },
     "execution_count": 11,
     "metadata": {},
     "output_type": "execute_result"
    }
   ],
   "source": [
    "Gold_Price.isnull().sum()"
   ]
  },
  {
   "cell_type": "markdown",
   "id": "41e1bf3b",
   "metadata": {},
   "source": [
    "No Nulls and that is good, hope all the datasets are like these (LoL)\n",
    "Let's check the correlation"
   ]
  },
  {
   "cell_type": "code",
   "execution_count": 21,
   "id": "b3526a72",
   "metadata": {},
   "outputs": [
    {
     "name": "stdout",
     "output_type": "stream",
     "text": [
      "<class 'pandas.core.frame.DataFrame'>\n",
      "RangeIndex: 2290 entries, 0 to 2289\n",
      "Data columns (total 5 columns):\n",
      " #   Column   Non-Null Count  Dtype  \n",
      "---  ------   --------------  -----  \n",
      " 0   SPX      2290 non-null   float64\n",
      " 1   GLD      2290 non-null   float64\n",
      " 2   USO      2290 non-null   float64\n",
      " 3   SLV      2290 non-null   float64\n",
      " 4   EUR/USD  2290 non-null   float64\n",
      "dtypes: float64(5)\n",
      "memory usage: 89.6 KB\n"
     ]
    }
   ],
   "source": [
    "Gold_Price = Gold_Price.drop('Date',axis=1)\n",
    "corr_vals = Gold_Price.corr()['EUR/USD'].drop('EUR/USD')\n",
    "corr_vals\n",
    "Gold_Price.info()"
   ]
  },
  {
   "cell_type": "markdown",
   "id": "a5e9fc40",
   "metadata": {},
   "source": [
    "As shown GLD feature has small effect on the price of gold "
   ]
  },
  {
   "cell_type": "markdown",
   "id": "b6e4c1a9",
   "metadata": {},
   "source": []
  },
  {
   "cell_type": "code",
   "execution_count": 13,
   "id": "03bd93be",
   "metadata": {},
   "outputs": [],
   "source": [
    "\n",
    "#scaler = StandardScaler()\n",
    "features = Gold_Price.iloc[:,[0,1,2,3]]\n",
    "target = Gold_Price.iloc[:,4]\n",
    "#X = scaler.fit_transform(features)\n"
   ]
  },
  {
   "cell_type": "code",
   "execution_count": 14,
   "id": "0900cc88",
   "metadata": {},
   "outputs": [],
   "source": [
    "# Train Test Split\n",
    "X_train,X_test,y_train,y_test = train_test_split(features,target,random_state=42,test_size=0.2)\n",
    "\n",
    "# Create and train the model (simple linear reg and XGboost) --> it would be a better solution if we used pipelining\n",
    "linear_model = LinearRegression()\n",
    "linear_model.fit(X_train,y_train)\n",
    "\n",
    "XGRegModel = XGBRegressor()\n",
    "XGRegModel.fit(X_train,y_train) \n",
    "\n",
    "\n",
    "# Make Predictions and evaluate\n",
    "y_predict_linear = linear_model.predict(X_test)\n",
    "y_predict_XGBoost = linear_model.predict(X_test)\n",
    "\n",
    "# Linear Model Performance\n",
    "R2_score_linear = r2_score(y_test,y_predict_linear)\n",
    "MSE_metric_linear = mean_squared_error(y_test,y_predict_linear)\n",
    "\n",
    "# XGBoosting Model Performance\n",
    "R2_score_XG = r2_score(y_test,y_predict_XGBoost)\n",
    "MSE_metric_XG = mean_squared_error(y_test,y_predict_XGBoost)\n",
    "\n"
   ]
  },
  {
   "cell_type": "markdown",
   "id": "02609974",
   "metadata": {},
   "source": [
    "R2 score of linear model : 0.775 and R2 score of XGBoost REgressor : 0.774\n",
    "Seems like no more improvement we can do"
   ]
  },
  {
   "cell_type": "code",
   "execution_count": 15,
   "id": "3b2e06fa",
   "metadata": {},
   "outputs": [
    {
     "data": {
      "text/plain": [
       "np.float32(1.5712526)"
      ]
     },
     "execution_count": 15,
     "metadata": {},
     "output_type": "execute_result"
    }
   ],
   "source": [
    "# Input Data for model predictions\n",
    "input_data = (1400.16,80.86,90.57,17.18)\n",
    "input_data = np.asarray(input_data)\n",
    "prediction = XGRegModel.predict(input_data.reshape(1,-1))\n",
    "\n",
    "prediction[0]"
   ]
  },
  {
   "cell_type": "markdown",
   "id": "3c0c5029",
   "metadata": {},
   "source": [
    "Saving the trained model"
   ]
  },
  {
   "cell_type": "code",
   "execution_count": 18,
   "id": "9e482c8c",
   "metadata": {},
   "outputs": [],
   "source": [
    "filename = 'traine_model.sav'\n",
    "pk.dump(XGRegModel,open(filename,'wb')) # writing the model into filename file wb ---> write binary\n"
   ]
  },
  {
   "cell_type": "markdown",
   "id": "7e100084",
   "metadata": {},
   "source": [
    "Loading the saved model"
   ]
  },
  {
   "cell_type": "code",
   "execution_count": 19,
   "id": "19854725",
   "metadata": {},
   "outputs": [],
   "source": [
    "laoded_model = pk.load(open('model.sav','rb')) # load the model and read it in binary format"
   ]
  }
 ],
 "metadata": {
  "kernelspec": {
   "display_name": "Python 3",
   "language": "python",
   "name": "python3"
  },
  "language_info": {
   "codemirror_mode": {
    "name": "ipython",
    "version": 3
   },
   "file_extension": ".py",
   "mimetype": "text/x-python",
   "name": "python",
   "nbconvert_exporter": "python",
   "pygments_lexer": "ipython3",
   "version": "3.11.9"
  }
 },
 "nbformat": 4,
 "nbformat_minor": 5
}
